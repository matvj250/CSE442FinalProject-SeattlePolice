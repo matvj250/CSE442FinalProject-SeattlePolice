{
 "cells": [
  {
   "cell_type": "markdown",
   "metadata": {},
   "source": [
    "11/15-17/23\n",
    "\n",
    "More pruning for SPD call dataset for CSE 442 FP (Explorable Explanation). My team and I determined some call priorities and types that are irrelevant to our project, so I need to get rid of them."
   ]
  },
  {
   "cell_type": "code",
   "execution_count": 31,
   "metadata": {},
   "outputs": [],
   "source": [
    "import numpy as np\n",
    "import matplotlib.pyplot as plt\n",
    "import pandas as pd\n",
    "import re"
   ]
  },
  {
   "cell_type": "code",
   "execution_count": 32,
   "metadata": {},
   "outputs": [],
   "source": [
    "filename = 'call_data_pruned_2.csv'\n",
    "ogData = pd.read_csv(filename)"
   ]
  },
  {
   "cell_type": "code",
   "execution_count": 33,
   "metadata": {},
   "outputs": [
    {
     "data": {
      "text/plain": [
       "2843445"
      ]
     },
     "execution_count": 33,
     "metadata": {},
     "output_type": "execute_result"
    }
   ],
   "source": [
    "ogData.shape[0]"
   ]
  },
  {
   "cell_type": "code",
   "execution_count": 34,
   "metadata": {},
   "outputs": [],
   "source": [
    "data = ogData[(ogData[\"Priority\"] < 5)] # determined that anything 5 and beyond wasn't a typical police call and was irrelevant to us\n",
    "data = data[(data[\"Call Type\"] != \"IN PERSON COMPLAINT\") & (data[\"Call Type\"] != \"HISTORY CALL (RETRO)\") & (data[\"Call Type\"] != \"PROACTIVE (OFFICER INITIATED)\") \n",
    "              & (data[\"Call Type\"] !=  \"ALARM CALL (NOT POLICE ALARM)\") & (data[\"Call Type\"] !=  \"POLICE (VARDA) ALARM\")] # irrelevant or rare general call types\n",
    "data.reset_index(drop=True, inplace=True)"
   ]
  },
  {
   "cell_type": "code",
   "execution_count": 35,
   "metadata": {},
   "outputs": [
    {
     "data": {
      "text/plain": [
       "2509670"
      ]
     },
     "execution_count": 35,
     "metadata": {},
     "output_type": "execute_result"
    }
   ],
   "source": [
    "data.shape[0]"
   ]
  },
  {
   "cell_type": "markdown",
   "metadata": {},
   "source": [
    "These next few cells get rid of call types that start with hyphens. These call types related to TRU (telephone reporting unit, we thought) and other irrelevant things. I took them out by making a new column that was just the first character of every call type, removing all rows with call types starting with hyphens, and then dropping that column."
   ]
  },
  {
   "cell_type": "code",
   "execution_count": 36,
   "metadata": {},
   "outputs": [],
   "source": [
    "data[\"temp\"] = [string[0:1] for string in data[\"Initial Call Type\"]]"
   ]
  },
  {
   "cell_type": "code",
   "execution_count": 37,
   "metadata": {},
   "outputs": [
    {
     "name": "stdout",
     "output_type": "stream",
     "text": [
      "0    P\n",
      "1    T\n",
      "2    T\n",
      "3    T\n",
      "4    S\n",
      "Name: temp, dtype: object\n"
     ]
    }
   ],
   "source": [
    "print(data[\"temp\"][0:5])"
   ]
  },
  {
   "cell_type": "code",
   "execution_count": 38,
   "metadata": {},
   "outputs": [],
   "source": [
    "data = data[(data[\"temp\"] != \"-\")]\n",
    "data.reset_index(drop=True, inplace=True)\n",
    "data = data.drop(\"temp\", axis=1)"
   ]
  },
  {
   "cell_type": "code",
   "execution_count": 39,
   "metadata": {},
   "outputs": [
    {
     "name": "stdout",
     "output_type": "stream",
     "text": [
      "<class 'pandas.core.frame.DataFrame'>\n",
      "RangeIndex: 2509591 entries, 0 to 2509590\n",
      "Data columns (total 12 columns):\n",
      " #   Column             Dtype  \n",
      "---  ------             -----  \n",
      " 0   Call Type          object \n",
      " 1   Priority           float64\n",
      " 2   Initial Call Type  object \n",
      " 3   Precinct           object \n",
      " 4   Beat               object \n",
      " 5   Blurred_Longitude  float64\n",
      " 6   Blurred_Latitude   float64\n",
      " 7   Response Time      float64\n",
      " 8   Neighborhood       object \n",
      " 9   Og_Date            object \n",
      " 10  Og_Year            int64  \n",
      " 11  Og_Time            object \n",
      "dtypes: float64(4), int64(1), object(7)\n",
      "memory usage: 229.8+ MB\n"
     ]
    }
   ],
   "source": [
    "data.info()"
   ]
  },
  {
   "cell_type": "code",
   "execution_count": 40,
   "metadata": {},
   "outputs": [],
   "source": [
    "#data.to_csv('call_data_pruned_pre_consol.csv', index=False)"
   ]
  },
  {
   "cell_type": "code",
   "execution_count": 79,
   "metadata": {},
   "outputs": [],
   "source": [
    "data_abb = data.copy()"
   ]
  },
  {
   "cell_type": "code",
   "execution_count": 80,
   "metadata": {},
   "outputs": [],
   "source": [
    "data_abb = data_abb[(data_abb[\"Og_Year\"] != 2009)] # 2009's data wasn't complete (found via SQL)\n",
    "data_abb.reset_index(drop=True, inplace=True)"
   ]
  },
  {
   "cell_type": "code",
   "execution_count": 81,
   "metadata": {},
   "outputs": [
    {
     "name": "stdout",
     "output_type": "stream",
     "text": [
      "(array([    696,    1759,    2774, ..., 2412150, 2412872, 2412906],\n",
      "      dtype=int64),)\n"
     ]
    }
   ],
   "source": [
    "print(np.where(np.array(data_abb[\"Neighborhood\"].isna()) == True)) # found in SQL that some calls had weird beats\n",
    "# meaning that some rows didn't have neighborhoods\n",
    "# we wanted to get rid of those"
   ]
  },
  {
   "cell_type": "code",
   "execution_count": 82,
   "metadata": {},
   "outputs": [],
   "source": [
    "data_abb = data_abb[(data_abb[\"Neighborhood\"].isna() == False)]\n",
    "data_abb.reset_index(drop=True, inplace=True)"
   ]
  },
  {
   "cell_type": "code",
   "execution_count": 83,
   "metadata": {},
   "outputs": [],
   "source": [
    "data_abb[\"temp2\"] = [string[0:3] for string in data_abb[\"Initial Call Type\"]]\n",
    "data_abb = data_abb[(data_abb[\"temp2\"] != \"TRU\")] #getting rid of more TRU call types\n",
    "data_abb.reset_index(drop=True, inplace=True)\n",
    "data_abb = data_abb.drop(\"temp2\", axis=1)"
   ]
  },
  {
   "cell_type": "code",
   "execution_count": 84,
   "metadata": {},
   "outputs": [
    {
     "data": {
      "text/plain": [
       "2402777"
      ]
     },
     "execution_count": 84,
     "metadata": {},
     "output_type": "execute_result"
    }
   ],
   "source": [
    "data_abb.shape[0]"
   ]
  },
  {
   "cell_type": "code",
   "execution_count": 85,
   "metadata": {},
   "outputs": [],
   "source": [
    "data_abb[\"is_IP_JO\"] = [((\"IP\" in string or \"JO\" in string) and \"INCLUDES IP/JO\" not in string) for string in data_abb[\"Initial Call Type\"]]\n",
    "# made a column indicating whether calls related to in progress/just occurred crimes (this was never used)"
   ]
  },
  {
   "cell_type": "code",
   "execution_count": 86,
   "metadata": {},
   "outputs": [
    {
     "data": {
      "text/plain": [
       "283555"
      ]
     },
     "execution_count": 86,
     "metadata": {},
     "output_type": "execute_result"
    }
   ],
   "source": [
    "temp = np.array(data_abb[\"is_IP_JO\"])\n",
    "len(np.nonzero(np.where(temp == True, 1, 0))[0])"
   ]
  },
  {
   "cell_type": "code",
   "execution_count": 87,
   "metadata": {},
   "outputs": [],
   "source": [
    "data_abb[\"is_DV\"] = [(\"DV\" in string) for string in data_abb[\"Initial Call Type\"]]\n",
    "# made a column indicating whether calls related to domestic violence crimes (this was never used)"
   ]
  },
  {
   "cell_type": "code",
   "execution_count": 88,
   "metadata": {},
   "outputs": [
    {
     "data": {
      "text/plain": [
       "155052"
      ]
     },
     "execution_count": 88,
     "metadata": {},
     "output_type": "execute_result"
    }
   ],
   "source": [
    "temp = np.array(data_abb[\"is_DV\"])\n",
    "len(np.nonzero(np.where(temp == True, 1, 0))[0])"
   ]
  },
  {
   "cell_type": "code",
   "execution_count": 89,
   "metadata": {},
   "outputs": [],
   "source": [
    "# wanted to make call types more understandable and generalizable (e.g. aggregate \"ASLT - IP/JO\", \"ASLT - DV\", into just \"Assault\")\n",
    "# however, this required changing a lot of types by hand, due to inconsistent conventions\n",
    "# e.g. most call types have an abbreviation, which is what I want, then a hyphen\n",
    "# but \"SERVICE - WELFARE CHECK\" has what I want after the hyphen\n",
    "def find_first_space(calltype):\n",
    "    if calltype == \"AUTO THEFT-IP/JO - VEHICLE, PLATES, TABS\":\n",
    "        return \"AUTO THEFT\".title() \n",
    "    if calltype == \"BOMB - THREATS\":\n",
    "        return \"BOMB THREATS\".title()\n",
    "    if calltype == \"DIST - DV - NO ASLT\" or calltype == \"DIST - IP/JO - DV DIST - NO ASLT\":\n",
    "        return \"Disturbance (Domestic Violence)\".title()\n",
    "    if calltype == \"DISTURBANCE, MISCELLANEOUS/OTHER\":\n",
    "        return \"Disturbance (Miscellaneous/Other)\".title()\n",
    "    if calltype == \"SUICIDE, SUICIDAL PERSON AND ATTEMPTS\":\n",
    "        return \"SUICIDE\".title()\n",
    "    if calltype == \"FIGHT - IP - PHYSICAL (NO WEAPONS)\" or calltype == \"FIGHT - JO - PHYSICAL (NO WEAPONS)\" or calltype == \"FIGHT - VERBAL/ORAL (NO WEAPONS)\":\n",
    "        return \"FIGHT (NO WEAPONS)\".title()\n",
    "    if calltype == \"FIGHT - IP/JO - WITH WEAPONS\" or calltype == \"FIGHT - WITH WEAPONS\":\n",
    "        return \"FIGHT (WITH WEAPONS)\".title()\n",
    "    if calltype == \"KNOWN KIDNAPPNG\":\n",
    "        return \"KNOWN KIDNAPPING\".title()\n",
    "    if calltype == \"PARKING VIOLATION (EXCEPT ABANDONED CAR)\":\n",
    "        return \"PARKING VIOLATION\".title()\n",
    "    if calltype == \"PARKS VIOLATIONS/CITES (INCLUDES EXCLUSIONS)\":\n",
    "        return \"PARKS VIOLATIONS/CITES\".title()\n",
    "    if calltype == \"SERVICE - WELFARE CHECK\":\n",
    "        return \"WELFARE CHECK\".title()\n",
    "    if calltype == \"ROBBERY (INCLUDES STRONG ARM)\":\n",
    "        return \"ROBBERY\".title()\n",
    "    if calltype == \"THREATS (INCLS IN-PERSON/BY PHONE/IN WRITING)\":\n",
    "        return \"THREATS\".title()\n",
    "    if calltype == \"PEACE-STANDBY TO ASSURE (NO COURT ORDR SVC)\":\n",
    "        return \"Peace (Standby To Assure)\"\n",
    "    if calltype == \"OPEN - BUILDING, DOOR, ETC.\":\n",
    "        return \"Open Building, Door, Etc.\"\n",
    "    if calltype == \"ANIMAL, REPORT - BITE\":\n",
    "        return \"Animal\"\n",
    "    if calltype == \"WEAPN-IP/JO-GUN,DEADLY WPN (NO THRT/ASLT/DIST)\":\n",
    "        return \"Weapon\"\n",
    "    index = calltype.find(\" -\")\n",
    "    if index != -1:\n",
    "        temp = calltype[:(index)].strip()\n",
    "        if temp == \"ASLT\":\n",
    "            return \"Assault\"\n",
    "        if temp == \"BURG\":\n",
    "            return \"Burglary\"\n",
    "        if temp == \"DOWN\":\n",
    "            return \"Person Down\"\n",
    "        if temp == \"Found\":\n",
    "            return \"Person Found\"\n",
    "        if temp == \"HARAS\":\n",
    "            return \"Harassment\"\n",
    "        if temp == \"HAZ\":\n",
    "            return \"Hazard\"\n",
    "        if temp == \"HZMAT\":\n",
    "            return \"Hazmat\"\n",
    "        if temp == \"PHONE\":\n",
    "            return \"Phone Calls\"\n",
    "        if temp == \"WEAPN\":\n",
    "            return \"Weapon\"\n",
    "        if temp == \"ACC\":\n",
    "            return \"Accident\"\n",
    "        if temp == \"MVC\":\n",
    "            return \"Motor Vehicle Crash\"\n",
    "        if temp == \"AWOL\" or temp == \"DOA\" or temp == \"DUI\" or temp == \"NORAD\" or temp == \"SWAT\":\n",
    "            return temp\n",
    "        return temp.title() # TRAFFIC - ASSIST MOTORIST\n",
    "    return calltype.title() # PERSON IN BEHAVIORAL/EMOTIONAL CRISIS"
   ]
  },
  {
   "cell_type": "code",
   "execution_count": 90,
   "metadata": {},
   "outputs": [],
   "source": [
    "data_abb[\"Abbrev_Type\"] = [find_first_space(string) for string in data_abb[\"Initial Call Type\"]]"
   ]
  },
  {
   "cell_type": "code",
   "execution_count": 91,
   "metadata": {},
   "outputs": [
    {
     "name": "stdout",
     "output_type": "stream",
     "text": [
      "0                               Parking Violation\n",
      "1                                         Threats\n",
      "2                                         Threats\n",
      "3                                         Threats\n",
      "4                              Suspicious Package\n",
      "5                                        Burglary\n",
      "6                                           Noise\n",
      "7    Trees Down, Obstructing Public Prop (No Haz)\n",
      "8                                       Narcotics\n",
      "9                                        Property\n",
      "Name: Abbrev_Type, dtype: object\n"
     ]
    }
   ],
   "source": [
    "print(data_abb[\"Abbrev_Type\"][:10])"
   ]
  },
  {
   "cell_type": "code",
   "execution_count": 92,
   "metadata": {},
   "outputs": [
    {
     "data": {
      "text/html": [
       "<div>\n",
       "<style scoped>\n",
       "    .dataframe tbody tr th:only-of-type {\n",
       "        vertical-align: middle;\n",
       "    }\n",
       "\n",
       "    .dataframe tbody tr th {\n",
       "        vertical-align: top;\n",
       "    }\n",
       "\n",
       "    .dataframe thead th {\n",
       "        text-align: right;\n",
       "    }\n",
       "</style>\n",
       "<table border=\"1\" class=\"dataframe\">\n",
       "  <thead>\n",
       "    <tr style=\"text-align: right;\">\n",
       "      <th></th>\n",
       "      <th>Call Type</th>\n",
       "      <th>Priority</th>\n",
       "      <th>Initial Call Type</th>\n",
       "      <th>Precinct</th>\n",
       "      <th>Beat</th>\n",
       "      <th>Blurred_Longitude</th>\n",
       "      <th>Blurred_Latitude</th>\n",
       "      <th>Response Time</th>\n",
       "      <th>Neighborhood</th>\n",
       "      <th>Og_Date</th>\n",
       "      <th>Og_Year</th>\n",
       "      <th>Og_Time</th>\n",
       "      <th>is_IP_JO</th>\n",
       "      <th>is_DV</th>\n",
       "      <th>Abbrev_Type</th>\n",
       "    </tr>\n",
       "  </thead>\n",
       "  <tbody>\n",
       "    <tr>\n",
       "      <th>0</th>\n",
       "      <td>TELEPHONE OTHER, NOT 911</td>\n",
       "      <td>4.0</td>\n",
       "      <td>PARKING VIOLATION (EXCEPT ABANDONED CAR)</td>\n",
       "      <td>SOUTHWEST</td>\n",
       "      <td>W3</td>\n",
       "      <td>-122.373896</td>\n",
       "      <td>47.536470</td>\n",
       "      <td>52.600000</td>\n",
       "      <td>Fauntleroy SW</td>\n",
       "      <td>2022-12-28</td>\n",
       "      <td>2022</td>\n",
       "      <td>07:54:06</td>\n",
       "      <td>False</td>\n",
       "      <td>False</td>\n",
       "      <td>Parking Violation</td>\n",
       "    </tr>\n",
       "    <tr>\n",
       "      <th>1</th>\n",
       "      <td>911</td>\n",
       "      <td>2.0</td>\n",
       "      <td>THREATS - DV - NO ASSAULT</td>\n",
       "      <td>NORTH</td>\n",
       "      <td>L1</td>\n",
       "      <td>-122.293701</td>\n",
       "      <td>47.729170</td>\n",
       "      <td>8.633333</td>\n",
       "      <td>Lake City</td>\n",
       "      <td>2016-07-24</td>\n",
       "      <td>2016</td>\n",
       "      <td>21:14:25</td>\n",
       "      <td>False</td>\n",
       "      <td>True</td>\n",
       "      <td>Threats</td>\n",
       "    </tr>\n",
       "    <tr>\n",
       "      <th>2</th>\n",
       "      <td>TELEPHONE OTHER, NOT 911</td>\n",
       "      <td>2.0</td>\n",
       "      <td>THREATS - DV - NO ASSAULT</td>\n",
       "      <td>WEST</td>\n",
       "      <td>D3</td>\n",
       "      <td>-122.338465</td>\n",
       "      <td>47.620874</td>\n",
       "      <td>137.650000</td>\n",
       "      <td>SLU/Cascade</td>\n",
       "      <td>2019-09-24</td>\n",
       "      <td>2019</td>\n",
       "      <td>18:01:17</td>\n",
       "      <td>False</td>\n",
       "      <td>True</td>\n",
       "      <td>Threats</td>\n",
       "    </tr>\n",
       "    <tr>\n",
       "      <th>3</th>\n",
       "      <td>911</td>\n",
       "      <td>2.0</td>\n",
       "      <td>THREATS - DV - NO ASSAULT</td>\n",
       "      <td>WEST</td>\n",
       "      <td>D3</td>\n",
       "      <td>-122.333634</td>\n",
       "      <td>47.621987</td>\n",
       "      <td>22.000000</td>\n",
       "      <td>SLU/Cascade</td>\n",
       "      <td>2017-07-29</td>\n",
       "      <td>2017</td>\n",
       "      <td>17:38:30</td>\n",
       "      <td>False</td>\n",
       "      <td>True</td>\n",
       "      <td>Threats</td>\n",
       "    </tr>\n",
       "    <tr>\n",
       "      <th>4</th>\n",
       "      <td>911</td>\n",
       "      <td>1.0</td>\n",
       "      <td>SUSPICIOUS PACKAGE</td>\n",
       "      <td>WEST</td>\n",
       "      <td>D2</td>\n",
       "      <td>-122.342323</td>\n",
       "      <td>47.627573</td>\n",
       "      <td>23.083333</td>\n",
       "      <td>Queen Anne</td>\n",
       "      <td>2016-03-02</td>\n",
       "      <td>2016</td>\n",
       "      <td>00:18:39</td>\n",
       "      <td>False</td>\n",
       "      <td>False</td>\n",
       "      <td>Suspicious Package</td>\n",
       "    </tr>\n",
       "  </tbody>\n",
       "</table>\n",
       "</div>"
      ],
      "text/plain": [
       "                  Call Type  Priority  \\\n",
       "0  TELEPHONE OTHER, NOT 911       4.0   \n",
       "1                       911       2.0   \n",
       "2  TELEPHONE OTHER, NOT 911       2.0   \n",
       "3                       911       2.0   \n",
       "4                       911       1.0   \n",
       "\n",
       "                          Initial Call Type   Precinct Beat  \\\n",
       "0  PARKING VIOLATION (EXCEPT ABANDONED CAR)  SOUTHWEST   W3   \n",
       "1                 THREATS - DV - NO ASSAULT      NORTH   L1   \n",
       "2                 THREATS - DV - NO ASSAULT       WEST   D3   \n",
       "3                 THREATS - DV - NO ASSAULT       WEST   D3   \n",
       "4                        SUSPICIOUS PACKAGE       WEST   D2   \n",
       "\n",
       "   Blurred_Longitude  Blurred_Latitude  Response Time   Neighborhood  \\\n",
       "0        -122.373896         47.536470      52.600000  Fauntleroy SW   \n",
       "1        -122.293701         47.729170       8.633333      Lake City   \n",
       "2        -122.338465         47.620874     137.650000    SLU/Cascade   \n",
       "3        -122.333634         47.621987      22.000000    SLU/Cascade   \n",
       "4        -122.342323         47.627573      23.083333     Queen Anne   \n",
       "\n",
       "      Og_Date  Og_Year   Og_Time  is_IP_JO  is_DV         Abbrev_Type  \n",
       "0  2022-12-28     2022  07:54:06     False  False   Parking Violation  \n",
       "1  2016-07-24     2016  21:14:25     False   True             Threats  \n",
       "2  2019-09-24     2019  18:01:17     False   True             Threats  \n",
       "3  2017-07-29     2017  17:38:30     False   True             Threats  \n",
       "4  2016-03-02     2016  00:18:39     False  False  Suspicious Package  "
      ]
     },
     "execution_count": 92,
     "metadata": {},
     "output_type": "execute_result"
    }
   ],
   "source": [
    "data_abb.head(5)"
   ]
  },
  {
   "cell_type": "code",
   "execution_count": 93,
   "metadata": {},
   "outputs": [],
   "source": [
    "data_abb = data_abb.drop(\"Initial Call Type\", axis=1) # don't need original column anymore because it was converted"
   ]
  },
  {
   "cell_type": "code",
   "execution_count": 94,
   "metadata": {},
   "outputs": [],
   "source": [
    "arr_remove = np.array(['AMBER'.title(),\n",
    "'ASSIST OTHER AGENCY'.title(),\n",
    "'ASSIST PUBLIC'.title(),\n",
    "'ASSIST SPD'.title(),\n",
    "'FOLLOW UP'.title(),\n",
    "'HELP THE OFFICER'.title(),\n",
    "'HOSPITAL GUARD ASSIGNMENT'.title(),\n",
    "'INFORMATIONAL BROADCASTS'.title(),\n",
    "'NARCOTICS WARRANT SERVICE'.title(),\n",
    "'ORDER'.title(),\n",
    "'PREMISE CHECK, OFFICER INITIATED ONVIEW ONLY'.title(),\n",
    "'PREPLANNED EVENT'.title(),\n",
    "'REQUEST TO WATCH'.title(),\n",
    "'SUSPICIOUS STOP'.title(),\n",
    "'SAMPLE / TEST CALL ONLY'.title(),\n",
    "'SFD'.title(),\n",
    "'STADIUM EVENT ASSIGNMENT'.title(),\n",
    "'TEST CALL ONLY'.title(),\n",
    "'WARRANT'.title(),\n",
    "'WARRANT PICKUP'.title()]) # more irrelevant call types"
   ]
  },
  {
   "cell_type": "code",
   "execution_count": 95,
   "metadata": {},
   "outputs": [],
   "source": [
    "for k in range(len(arr_remove)): # remove all call types we don't want\n",
    "    #print(arr_remove[k])\n",
    "    data_abb = data_abb[(data_abb['Abbrev_Type'] != arr_remove[k])]\n",
    "    data_abb.reset_index(drop=True, inplace=True)"
   ]
  },
  {
   "cell_type": "code",
   "execution_count": 98,
   "metadata": {},
   "outputs": [
    {
     "name": "stdout",
     "output_type": "stream",
     "text": [
      "<class 'pandas.core.frame.DataFrame'>\n",
      "RangeIndex: 2278401 entries, 0 to 2278400\n",
      "Data columns (total 14 columns):\n",
      " #   Column             Dtype  \n",
      "---  ------             -----  \n",
      " 0   Call Type          object \n",
      " 1   Priority           float64\n",
      " 2   Precinct           object \n",
      " 3   Beat               object \n",
      " 4   Blurred_Longitude  float64\n",
      " 5   Blurred_Latitude   float64\n",
      " 6   Response Time      float64\n",
      " 7   Neighborhood       object \n",
      " 8   Og_Date            object \n",
      " 9   Og_Year            int64  \n",
      " 10  Og_Time            object \n",
      " 11  is_IP_JO           bool   \n",
      " 12  is_DV              bool   \n",
      " 13  Abbrev_Type        object \n",
      "dtypes: bool(2), float64(4), int64(1), object(7)\n",
      "memory usage: 212.9+ MB\n"
     ]
    }
   ],
   "source": [
    "data_abb.reset_index(drop=True, inplace=True)\n",
    "data_abb.info()"
   ]
  },
  {
   "cell_type": "code",
   "execution_count": 99,
   "metadata": {},
   "outputs": [],
   "source": [
    "#data_abb.to_csv('call_data_pruned_final.csv', index=False) #old file name\n",
    "# file name just for call types"
   ]
  }
 ],
 "metadata": {
  "kernelspec": {
   "display_name": "base",
   "language": "python",
   "name": "python3"
  },
  "language_info": {
   "codemirror_mode": {
    "name": "ipython",
    "version": 3
   },
   "file_extension": ".py",
   "mimetype": "text/x-python",
   "name": "python",
   "nbconvert_exporter": "python",
   "pygments_lexer": "ipython3",
   "version": "3.10.9"
  }
 },
 "nbformat": 4,
 "nbformat_minor": 2
}
